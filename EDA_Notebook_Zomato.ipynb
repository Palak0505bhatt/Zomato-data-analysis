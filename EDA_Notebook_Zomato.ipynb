{
  "nbformat": 4,
  "nbformat_minor": 0,
  "metadata": {
    "colab": {
      "provenance": []
    },
    "kernelspec": {
      "name": "python3",
      "display_name": "Python 3"
    },
    "language_info": {
      "name": "python"
    }
  },
  "cells": [
    {
      "cell_type": "markdown",
      "source": [
        "**IMPORT FILE**"
      ],
      "metadata": {
        "id": "X64EomoOxLBV"
      }
    },
    {
      "cell_type": "code",
      "execution_count": null,
      "metadata": {
        "colab": {
          "base_uri": "https://localhost:8080/"
        },
        "id": "KLjUSo7waeJy",
        "outputId": "4691a87b-e4cc-4434-d219-070d4593508f"
      },
      "outputs": [
        {
          "output_type": "stream",
          "name": "stdout",
          "text": [
            "Directory 'GUVI' created.\n"
          ]
        },
        {
          "output_type": "execute_result",
          "data": {
            "text/plain": [
              "[]"
            ]
          },
          "metadata": {},
          "execution_count": 10
        }
      ],
      "source": [
        "import os\n",
        "\n",
        "# Check if the directory 'GUVI' exists\n",
        "if not os.path.exists(\"GUVI\"):\n",
        "    # If it doesn't exist, create it\n",
        "    os.makedirs(\"GUVI\")\n",
        "    print(\"Directory 'GUVI' created.\")\n",
        "\n",
        "# Now, you can safely list the contents of the directory\n",
        "os.listdir(\"GUVI\")"
      ]
    },
    {
      "cell_type": "markdown",
      "source": [
        "**UPLOAD DATASET**"
      ],
      "metadata": {
        "id": "yJN1WGabxCFk"
      }
    },
    {
      "cell_type": "code",
      "source": [
        "import os\n",
        "os.listdir(\"GUVI\")"
      ],
      "metadata": {
        "colab": {
          "base_uri": "https://localhost:8080/"
        },
        "id": "gF1QwXNZfzm7",
        "outputId": "f12b1520-2707-4530-86c7-76c2d8836795"
      },
      "execution_count": null,
      "outputs": [
        {
          "output_type": "execute_result",
          "data": {
            "text/plain": [
              "[]"
            ]
          },
          "metadata": {},
          "execution_count": 11
        }
      ]
    },
    {
      "cell_type": "markdown",
      "source": [
        "**FILE PATH**"
      ],
      "metadata": {
        "id": "sCg0l_S2ypsd"
      }
    },
    {
      "cell_type": "code",
      "source": [
        "import pandas as pd\n",
        "df=pd.read_csv(\"/GUVI/zomato.csv\")"
      ],
      "metadata": {
        "id": "JQ2QhCIcf71c"
      },
      "execution_count": null,
      "outputs": []
    },
    {
      "cell_type": "markdown",
      "source": [
        "## Install Required Libraries"
      ],
      "metadata": {
        "id": "c5y5redVywhC"
      }
    },
    {
      "cell_type": "code",
      "source": [
        "!pip install pandas numpy matplotlib seaborn openpyxl\n"
      ],
      "metadata": {
        "colab": {
          "base_uri": "https://localhost:8080/"
        },
        "id": "_6QXH5c4hQrt",
        "outputId": "98d1ac49-c364-469f-ff1d-5056d51eadfb"
      },
      "execution_count": null,
      "outputs": [
        {
          "output_type": "stream",
          "name": "stdout",
          "text": [
            "Requirement already satisfied: pandas in /usr/local/lib/python3.11/dist-packages (2.2.2)\n",
            "Requirement already satisfied: numpy in /usr/local/lib/python3.11/dist-packages (2.0.2)\n",
            "Requirement already satisfied: matplotlib in /usr/local/lib/python3.11/dist-packages (3.10.0)\n",
            "Requirement already satisfied: seaborn in /usr/local/lib/python3.11/dist-packages (0.13.2)\n",
            "Requirement already satisfied: openpyxl in /usr/local/lib/python3.11/dist-packages (3.1.5)\n",
            "Requirement already satisfied: python-dateutil>=2.8.2 in /usr/local/lib/python3.11/dist-packages (from pandas) (2.9.0.post0)\n",
            "Requirement already satisfied: pytz>=2020.1 in /usr/local/lib/python3.11/dist-packages (from pandas) (2025.2)\n",
            "Requirement already satisfied: tzdata>=2022.7 in /usr/local/lib/python3.11/dist-packages (from pandas) (2025.2)\n",
            "Requirement already satisfied: contourpy>=1.0.1 in /usr/local/lib/python3.11/dist-packages (from matplotlib) (1.3.2)\n",
            "Requirement already satisfied: cycler>=0.10 in /usr/local/lib/python3.11/dist-packages (from matplotlib) (0.12.1)\n",
            "Requirement already satisfied: fonttools>=4.22.0 in /usr/local/lib/python3.11/dist-packages (from matplotlib) (4.58.0)\n",
            "Requirement already satisfied: kiwisolver>=1.3.1 in /usr/local/lib/python3.11/dist-packages (from matplotlib) (1.4.8)\n",
            "Requirement already satisfied: packaging>=20.0 in /usr/local/lib/python3.11/dist-packages (from matplotlib) (24.2)\n",
            "Requirement already satisfied: pillow>=8 in /usr/local/lib/python3.11/dist-packages (from matplotlib) (11.2.1)\n",
            "Requirement already satisfied: pyparsing>=2.3.1 in /usr/local/lib/python3.11/dist-packages (from matplotlib) (3.2.3)\n",
            "Requirement already satisfied: et-xmlfile in /usr/local/lib/python3.11/dist-packages (from openpyxl) (2.0.0)\n",
            "Requirement already satisfied: six>=1.5 in /usr/local/lib/python3.11/dist-packages (from python-dateutil>=2.8.2->pandas) (1.17.0)\n"
          ]
        }
      ]
    },
    {
      "cell_type": "markdown",
      "source": [
        "**Import All Libraries**"
      ],
      "metadata": {
        "id": "mhuuha2VzaXr"
      }
    },
    {
      "cell_type": "code",
      "source": [
        "import pandas as pd\n",
        "import numpy as np\n",
        "import matplotlib.pyplot as plt\n",
        "import seaborn as sns\n",
        "sns.set_style(\"whitegrid\")\n"
      ],
      "metadata": {
        "id": "PWEtab6uhXXa"
      },
      "execution_count": null,
      "outputs": []
    },
    {
      "cell_type": "markdown",
      "source": [
        "**Initial Exploration**"
      ],
      "metadata": {
        "id": "RsaDJGZA0Dc4"
      }
    },
    {
      "cell_type": "code",
      "source": [
        "df.head()       # First 5 rows\n",
        "df.shape        # Number of rows and columns\n",
        "df.columns      # List column names\n",
        "df.info()\n",
        "df.describe()       # Data types and null values\n"
      ],
      "metadata": {
        "colab": {
          "base_uri": "https://localhost:8080/",
          "height": 716
        },
        "outputId": "e8c48538-d230-4b7d-8a75-a5ab51b5139c",
        "id": "sPijYqjGz5ax"
      },
      "execution_count": null,
      "outputs": [
        {
          "output_type": "stream",
          "name": "stdout",
          "text": [
            "<class 'pandas.core.frame.DataFrame'>\n",
            "RangeIndex: 51717 entries, 0 to 51716\n",
            "Data columns (total 17 columns):\n",
            " #   Column                       Non-Null Count  Dtype \n",
            "---  ------                       --------------  ----- \n",
            " 0   url                          51717 non-null  object\n",
            " 1   address                      51717 non-null  object\n",
            " 2   name                         51717 non-null  object\n",
            " 3   online_order                 51717 non-null  object\n",
            " 4   book_table                   51717 non-null  object\n",
            " 5   rate                         43942 non-null  object\n",
            " 6   votes                        51717 non-null  int64 \n",
            " 7   phone                        50509 non-null  object\n",
            " 8   location                     51696 non-null  object\n",
            " 9   rest_type                    51490 non-null  object\n",
            " 10  dish_liked                   23639 non-null  object\n",
            " 11  cuisines                     51672 non-null  object\n",
            " 12  approx_cost(for two people)  51371 non-null  object\n",
            " 13  reviews_list                 51717 non-null  object\n",
            " 14  menu_item                    51717 non-null  object\n",
            " 15  listed_in(type)              51717 non-null  object\n",
            " 16  listed_in(city)              51717 non-null  object\n",
            "dtypes: int64(1), object(16)\n",
            "memory usage: 6.7+ MB\n"
          ]
        },
        {
          "output_type": "execute_result",
          "data": {
            "text/plain": [
              "              votes\n",
              "count  51717.000000\n",
              "mean     283.697527\n",
              "std      803.838853\n",
              "min        0.000000\n",
              "25%        7.000000\n",
              "50%       41.000000\n",
              "75%      198.000000\n",
              "max    16832.000000"
            ],
            "text/html": [
              "\n",
              "  <div id=\"df-ec14691d-7ccc-44af-bcbf-1f1995e27ebf\" class=\"colab-df-container\">\n",
              "    <div>\n",
              "<style scoped>\n",
              "    .dataframe tbody tr th:only-of-type {\n",
              "        vertical-align: middle;\n",
              "    }\n",
              "\n",
              "    .dataframe tbody tr th {\n",
              "        vertical-align: top;\n",
              "    }\n",
              "\n",
              "    .dataframe thead th {\n",
              "        text-align: right;\n",
              "    }\n",
              "</style>\n",
              "<table border=\"1\" class=\"dataframe\">\n",
              "  <thead>\n",
              "    <tr style=\"text-align: right;\">\n",
              "      <th></th>\n",
              "      <th>votes</th>\n",
              "    </tr>\n",
              "  </thead>\n",
              "  <tbody>\n",
              "    <tr>\n",
              "      <th>count</th>\n",
              "      <td>51717.000000</td>\n",
              "    </tr>\n",
              "    <tr>\n",
              "      <th>mean</th>\n",
              "      <td>283.697527</td>\n",
              "    </tr>\n",
              "    <tr>\n",
              "      <th>std</th>\n",
              "      <td>803.838853</td>\n",
              "    </tr>\n",
              "    <tr>\n",
              "      <th>min</th>\n",
              "      <td>0.000000</td>\n",
              "    </tr>\n",
              "    <tr>\n",
              "      <th>25%</th>\n",
              "      <td>7.000000</td>\n",
              "    </tr>\n",
              "    <tr>\n",
              "      <th>50%</th>\n",
              "      <td>41.000000</td>\n",
              "    </tr>\n",
              "    <tr>\n",
              "      <th>75%</th>\n",
              "      <td>198.000000</td>\n",
              "    </tr>\n",
              "    <tr>\n",
              "      <th>max</th>\n",
              "      <td>16832.000000</td>\n",
              "    </tr>\n",
              "  </tbody>\n",
              "</table>\n",
              "</div>\n",
              "    <div class=\"colab-df-buttons\">\n",
              "\n",
              "  <div class=\"colab-df-container\">\n",
              "    <button class=\"colab-df-convert\" onclick=\"convertToInteractive('df-ec14691d-7ccc-44af-bcbf-1f1995e27ebf')\"\n",
              "            title=\"Convert this dataframe to an interactive table.\"\n",
              "            style=\"display:none;\">\n",
              "\n",
              "  <svg xmlns=\"http://www.w3.org/2000/svg\" height=\"24px\" viewBox=\"0 -960 960 960\">\n",
              "    <path d=\"M120-120v-720h720v720H120Zm60-500h600v-160H180v160Zm220 220h160v-160H400v160Zm0 220h160v-160H400v160ZM180-400h160v-160H180v160Zm440 0h160v-160H620v160ZM180-180h160v-160H180v160Zm440 0h160v-160H620v160Z\"/>\n",
              "  </svg>\n",
              "    </button>\n",
              "\n",
              "  <style>\n",
              "    .colab-df-container {\n",
              "      display:flex;\n",
              "      gap: 12px;\n",
              "    }\n",
              "\n",
              "    .colab-df-convert {\n",
              "      background-color: #E8F0FE;\n",
              "      border: none;\n",
              "      border-radius: 50%;\n",
              "      cursor: pointer;\n",
              "      display: none;\n",
              "      fill: #1967D2;\n",
              "      height: 32px;\n",
              "      padding: 0 0 0 0;\n",
              "      width: 32px;\n",
              "    }\n",
              "\n",
              "    .colab-df-convert:hover {\n",
              "      background-color: #E2EBFA;\n",
              "      box-shadow: 0px 1px 2px rgba(60, 64, 67, 0.3), 0px 1px 3px 1px rgba(60, 64, 67, 0.15);\n",
              "      fill: #174EA6;\n",
              "    }\n",
              "\n",
              "    .colab-df-buttons div {\n",
              "      margin-bottom: 4px;\n",
              "    }\n",
              "\n",
              "    [theme=dark] .colab-df-convert {\n",
              "      background-color: #3B4455;\n",
              "      fill: #D2E3FC;\n",
              "    }\n",
              "\n",
              "    [theme=dark] .colab-df-convert:hover {\n",
              "      background-color: #434B5C;\n",
              "      box-shadow: 0px 1px 3px 1px rgba(0, 0, 0, 0.15);\n",
              "      filter: drop-shadow(0px 1px 2px rgba(0, 0, 0, 0.3));\n",
              "      fill: #FFFFFF;\n",
              "    }\n",
              "  </style>\n",
              "\n",
              "    <script>\n",
              "      const buttonEl =\n",
              "        document.querySelector('#df-ec14691d-7ccc-44af-bcbf-1f1995e27ebf button.colab-df-convert');\n",
              "      buttonEl.style.display =\n",
              "        google.colab.kernel.accessAllowed ? 'block' : 'none';\n",
              "\n",
              "      async function convertToInteractive(key) {\n",
              "        const element = document.querySelector('#df-ec14691d-7ccc-44af-bcbf-1f1995e27ebf');\n",
              "        const dataTable =\n",
              "          await google.colab.kernel.invokeFunction('convertToInteractive',\n",
              "                                                    [key], {});\n",
              "        if (!dataTable) return;\n",
              "\n",
              "        const docLinkHtml = 'Like what you see? Visit the ' +\n",
              "          '<a target=\"_blank\" href=https://colab.research.google.com/notebooks/data_table.ipynb>data table notebook</a>'\n",
              "          + ' to learn more about interactive tables.';\n",
              "        element.innerHTML = '';\n",
              "        dataTable['output_type'] = 'display_data';\n",
              "        await google.colab.output.renderOutput(dataTable, element);\n",
              "        const docLink = document.createElement('div');\n",
              "        docLink.innerHTML = docLinkHtml;\n",
              "        element.appendChild(docLink);\n",
              "      }\n",
              "    </script>\n",
              "  </div>\n",
              "\n",
              "\n",
              "    <div id=\"df-ac256264-7d3d-4a60-bf3b-d443c0f79a41\">\n",
              "      <button class=\"colab-df-quickchart\" onclick=\"quickchart('df-ac256264-7d3d-4a60-bf3b-d443c0f79a41')\"\n",
              "                title=\"Suggest charts\"\n",
              "                style=\"display:none;\">\n",
              "\n",
              "<svg xmlns=\"http://www.w3.org/2000/svg\" height=\"24px\"viewBox=\"0 0 24 24\"\n",
              "     width=\"24px\">\n",
              "    <g>\n",
              "        <path d=\"M19 3H5c-1.1 0-2 .9-2 2v14c0 1.1.9 2 2 2h14c1.1 0 2-.9 2-2V5c0-1.1-.9-2-2-2zM9 17H7v-7h2v7zm4 0h-2V7h2v10zm4 0h-2v-4h2v4z\"/>\n",
              "    </g>\n",
              "</svg>\n",
              "      </button>\n",
              "\n",
              "<style>\n",
              "  .colab-df-quickchart {\n",
              "      --bg-color: #E8F0FE;\n",
              "      --fill-color: #1967D2;\n",
              "      --hover-bg-color: #E2EBFA;\n",
              "      --hover-fill-color: #174EA6;\n",
              "      --disabled-fill-color: #AAA;\n",
              "      --disabled-bg-color: #DDD;\n",
              "  }\n",
              "\n",
              "  [theme=dark] .colab-df-quickchart {\n",
              "      --bg-color: #3B4455;\n",
              "      --fill-color: #D2E3FC;\n",
              "      --hover-bg-color: #434B5C;\n",
              "      --hover-fill-color: #FFFFFF;\n",
              "      --disabled-bg-color: #3B4455;\n",
              "      --disabled-fill-color: #666;\n",
              "  }\n",
              "\n",
              "  .colab-df-quickchart {\n",
              "    background-color: var(--bg-color);\n",
              "    border: none;\n",
              "    border-radius: 50%;\n",
              "    cursor: pointer;\n",
              "    display: none;\n",
              "    fill: var(--fill-color);\n",
              "    height: 32px;\n",
              "    padding: 0;\n",
              "    width: 32px;\n",
              "  }\n",
              "\n",
              "  .colab-df-quickchart:hover {\n",
              "    background-color: var(--hover-bg-color);\n",
              "    box-shadow: 0 1px 2px rgba(60, 64, 67, 0.3), 0 1px 3px 1px rgba(60, 64, 67, 0.15);\n",
              "    fill: var(--button-hover-fill-color);\n",
              "  }\n",
              "\n",
              "  .colab-df-quickchart-complete:disabled,\n",
              "  .colab-df-quickchart-complete:disabled:hover {\n",
              "    background-color: var(--disabled-bg-color);\n",
              "    fill: var(--disabled-fill-color);\n",
              "    box-shadow: none;\n",
              "  }\n",
              "\n",
              "  .colab-df-spinner {\n",
              "    border: 2px solid var(--fill-color);\n",
              "    border-color: transparent;\n",
              "    border-bottom-color: var(--fill-color);\n",
              "    animation:\n",
              "      spin 1s steps(1) infinite;\n",
              "  }\n",
              "\n",
              "  @keyframes spin {\n",
              "    0% {\n",
              "      border-color: transparent;\n",
              "      border-bottom-color: var(--fill-color);\n",
              "      border-left-color: var(--fill-color);\n",
              "    }\n",
              "    20% {\n",
              "      border-color: transparent;\n",
              "      border-left-color: var(--fill-color);\n",
              "      border-top-color: var(--fill-color);\n",
              "    }\n",
              "    30% {\n",
              "      border-color: transparent;\n",
              "      border-left-color: var(--fill-color);\n",
              "      border-top-color: var(--fill-color);\n",
              "      border-right-color: var(--fill-color);\n",
              "    }\n",
              "    40% {\n",
              "      border-color: transparent;\n",
              "      border-right-color: var(--fill-color);\n",
              "      border-top-color: var(--fill-color);\n",
              "    }\n",
              "    60% {\n",
              "      border-color: transparent;\n",
              "      border-right-color: var(--fill-color);\n",
              "    }\n",
              "    80% {\n",
              "      border-color: transparent;\n",
              "      border-right-color: var(--fill-color);\n",
              "      border-bottom-color: var(--fill-color);\n",
              "    }\n",
              "    90% {\n",
              "      border-color: transparent;\n",
              "      border-bottom-color: var(--fill-color);\n",
              "    }\n",
              "  }\n",
              "</style>\n",
              "\n",
              "      <script>\n",
              "        async function quickchart(key) {\n",
              "          const quickchartButtonEl =\n",
              "            document.querySelector('#' + key + ' button');\n",
              "          quickchartButtonEl.disabled = true;  // To prevent multiple clicks.\n",
              "          quickchartButtonEl.classList.add('colab-df-spinner');\n",
              "          try {\n",
              "            const charts = await google.colab.kernel.invokeFunction(\n",
              "                'suggestCharts', [key], {});\n",
              "          } catch (error) {\n",
              "            console.error('Error during call to suggestCharts:', error);\n",
              "          }\n",
              "          quickchartButtonEl.classList.remove('colab-df-spinner');\n",
              "          quickchartButtonEl.classList.add('colab-df-quickchart-complete');\n",
              "        }\n",
              "        (() => {\n",
              "          let quickchartButtonEl =\n",
              "            document.querySelector('#df-ac256264-7d3d-4a60-bf3b-d443c0f79a41 button');\n",
              "          quickchartButtonEl.style.display =\n",
              "            google.colab.kernel.accessAllowed ? 'block' : 'none';\n",
              "        })();\n",
              "      </script>\n",
              "    </div>\n",
              "\n",
              "    </div>\n",
              "  </div>\n"
            ],
            "application/vnd.google.colaboratory.intrinsic+json": {
              "type": "dataframe",
              "summary": "{\n  \"name\": \"df\",\n  \"rows\": 8,\n  \"fields\": [\n    {\n      \"column\": \"votes\",\n      \"properties\": {\n        \"dtype\": \"number\",\n        \"std\": 18315.82366942701,\n        \"min\": 0.0,\n        \"max\": 51717.0,\n        \"num_unique_values\": 8,\n        \"samples\": [\n          283.69752692538236,\n          41.0,\n          51717.0\n        ],\n        \"semantic_type\": \"\",\n        \"description\": \"\"\n      }\n    }\n  ]\n}"
            }
          },
          "metadata": {},
          "execution_count": 18
        }
      ]
    },
    {
      "cell_type": "markdown",
      "source": [
        "# **Handle Missing Values**"
      ],
      "metadata": {
        "id": "fb5gq0uw0Urr"
      }
    },
    {
      "cell_type": "code",
      "source": [
        "# Check missing values\n",
        "print(df.isnull().sum())  # This will show missing values column-wise\n",
        "\n",
        "# Fill missing values in the 'rate' column with its mode\n",
        "df['rate'] = df['rate'].fillna(df['rate'].mode()[0])\n",
        "\n",
        "# Drop rows with any remaining null values\n",
        "df.dropna(inplace=True)\n",
        "\n",
        "# Confirm again that no missing values remain\n",
        "print(\"\\nAfter cleaning:\\n\")\n",
        "print(df.isnull().sum())\n",
        "\n"
      ],
      "metadata": {
        "colab": {
          "base_uri": "https://localhost:8080/"
        },
        "id": "s0J3JEh4huak",
        "outputId": "5460811d-3555-4061-cc11-63d45344941c"
      },
      "execution_count": null,
      "outputs": [
        {
          "output_type": "stream",
          "name": "stdout",
          "text": [
            "url                            0\n",
            "address                        0\n",
            "name                           0\n",
            "online_order                   0\n",
            "book_table                     0\n",
            "rate                           0\n",
            "votes                          0\n",
            "phone                          0\n",
            "location                       0\n",
            "rest_type                      0\n",
            "dish_liked                     0\n",
            "cuisines                       0\n",
            "approx_cost(for two people)    0\n",
            "reviews_list                   0\n",
            "menu_item                      0\n",
            "listed_in(type)                0\n",
            "listed_in(city)                0\n",
            "dtype: int64\n",
            "\n",
            "After cleaning:\n",
            "\n",
            "url                            0\n",
            "address                        0\n",
            "name                           0\n",
            "online_order                   0\n",
            "book_table                     0\n",
            "rate                           0\n",
            "votes                          0\n",
            "phone                          0\n",
            "location                       0\n",
            "rest_type                      0\n",
            "dish_liked                     0\n",
            "cuisines                       0\n",
            "approx_cost(for two people)    0\n",
            "reviews_list                   0\n",
            "menu_item                      0\n",
            "listed_in(type)                0\n",
            "listed_in(city)                0\n",
            "dtype: int64\n"
          ]
        }
      ]
    },
    {
      "cell_type": "markdown",
      "source": [
        "# **Clean Data**"
      ],
      "metadata": {
        "id": "oAQqDfxE0hCK"
      }
    },
    {
      "cell_type": "code",
      "source": [
        "\n",
        "#clean data\n",
        "print(\"Columns before dropping:\\n\", df.columns)\n",
        "\n",
        "# Verify the exact column names in df.columns before dropping\n",
        "# If some of the listed columns are not present, remove them from the list.\n",
        "columns_to_drop = ['url', 'address', 'phone', 'listed_in(city)', 'menu_item']\n",
        "\n",
        "# Filter the list to only include columns that exist in the DataFrame\n",
        "existing_columns_to_drop = [col for col in columns_to_drop if col in df.columns]\n",
        "\n",
        "# Drop only the columns that exist\n",
        "df.drop(existing_columns_to_drop, axis=1, inplace=True)\n",
        "\n",
        "print(\"Columns after dropping:\\n\", df.columns)\n"
      ],
      "metadata": {
        "colab": {
          "base_uri": "https://localhost:8080/"
        },
        "id": "sfoOUbgWi5ln",
        "outputId": "54e41ae8-23c9-47ca-d82c-9cdfe49b15a3"
      },
      "execution_count": null,
      "outputs": [
        {
          "output_type": "stream",
          "name": "stdout",
          "text": [
            "Columns before dropping:\n",
            " Index(['name', 'online_order', 'book_table', 'rate', 'votes', 'location',\n",
            "       'rest_type', 'dish_liked', 'cuisines', 'approx_cost(for two people)',\n",
            "       'reviews_list', 'listed_in(type)'],\n",
            "      dtype='object')\n",
            "Columns after dropping:\n",
            " Index(['name', 'online_order', 'book_table', 'rate', 'votes', 'location',\n",
            "       'rest_type', 'dish_liked', 'cuisines', 'approx_cost(for two people)',\n",
            "       'reviews_list', 'listed_in(type)'],\n",
            "      dtype='object')\n"
          ]
        }
      ]
    },
    {
      "cell_type": "markdown",
      "source": [
        "**Clean rate column**"
      ],
      "metadata": {
        "id": "AD7EW2W30_cM"
      }
    },
    {
      "cell_type": "code",
      "source": [
        "df['rate'] = df['rate'].astype(str)\n",
        "df['rate'] = df['rate'].apply(lambda x: x.replace('/5', '').strip())\n",
        "# Explicitly create a copy of the filtered DataFrame to avoid SettingWithCopyWarning\n",
        "df = df[df['rate'] != 'NEW'].copy()\n",
        "df['rate'] = df['rate'].astype(float)"
      ],
      "metadata": {
        "id": "32VSSXRHlNqa"
      },
      "execution_count": null,
      "outputs": []
    },
    {
      "cell_type": "markdown",
      "source": [
        "# **Feature Engineering**"
      ],
      "metadata": {
        "id": "cftAGqG71Enx"
      }
    },
    {
      "cell_type": "code",
      "source": [
        "#Feature Engineering\n",
        "df['online_order'] = df['online_order'].map({'Yes': 1, 'No': 0})\n",
        "df['book_table'] = df['book_table'].map({'Yes': 1, 'No': 0})\n",
        "df.columns = df.columns.str.lower()\n",
        "# Check unique values to confirm mapping\n",
        "print(\"✅ online_order unique values:\", df['online_order'].unique())\n",
        "print(\"✅ book_table unique values:\", df['book_table'].unique())\n",
        "# Check updated column names\n",
        "print(\"\\n✅ Column names after lowercase conversion:\\n\", df.columns.tolist())\n",
        "\n",
        "\n",
        "\n"
      ],
      "metadata": {
        "colab": {
          "base_uri": "https://localhost:8080/"
        },
        "id": "NYLWYmxOmlcm",
        "outputId": "9d6a5675-e393-4125-a1d8-834521539268"
      },
      "execution_count": null,
      "outputs": [
        {
          "output_type": "stream",
          "name": "stdout",
          "text": [
            "✅ online_order unique values: [nan]\n",
            "✅ book_table unique values: [nan]\n",
            "\n",
            "✅ Column names after lowercase conversion:\n",
            " ['name', 'online_order', 'book_table', 'rate', 'votes', 'location', 'rest_type', 'dish_liked', 'cuisines', 'approx_cost(for two people)', 'reviews_list', 'listed_in(type)']\n"
          ]
        }
      ]
    },
    {
      "cell_type": "markdown",
      "source": [
        "# **Remove Duplicates**"
      ],
      "metadata": {
        "id": "oM0mlfBZ1NAA"
      }
    },
    {
      "cell_type": "code",
      "source": [
        "# Check number of rows before dropping duplicates\n",
        "before = df.shape[0]\n",
        "\n",
        "# Drop duplicate rows\n",
        "df.drop_duplicates(inplace=True)\n",
        "\n",
        "# Check number of rows after dropping duplicates\n",
        "after = df.shape[0]\n",
        "\n",
        "# Show how many were removed\n",
        "print(f\" Removed {before - after} duplicate rows.\")\n",
        "print(f\" Final dataset shape: {df.shape}\")\n",
        "\n"
      ],
      "metadata": {
        "colab": {
          "base_uri": "https://localhost:8080/"
        },
        "id": "XL0LbNGjng4L",
        "outputId": "36d64a47-194c-4abb-8e47-76135522aff0"
      },
      "execution_count": null,
      "outputs": [
        {
          "output_type": "stream",
          "name": "stdout",
          "text": [
            " Removed 0 duplicate rows.\n",
            " Final dataset shape: (19560, 12)\n"
          ]
        }
      ]
    },
    {
      "cell_type": "code",
      "source": [
        "import pandas as pd\n",
        "df=pd.read_csv(\"/content/GUVI/zomato.csv\")\n"
      ],
      "metadata": {
        "id": "Uzzzr412bnu5"
      },
      "execution_count": null,
      "outputs": []
    },
    {
      "cell_type": "markdown",
      "source": [
        "# **Visualizations**\n",
        "Online order availability"
      ],
      "metadata": {
        "id": "kzlnyH6u1bzP"
      }
    },
    {
      "cell_type": "code",
      "source": [
        "import seaborn as sns\n",
        "import matplotlib.pyplot as plt\n",
        "\n",
        "# Ensure that the cells defining and processing 'df' have been executed\n",
        "# before running this plotting code.\n",
        "sns.countplot(x='online_order', data=df)\n",
        "plt.title(\"Online Order Availability\")\n",
        "plt.show()"
      ],
      "metadata": {
        "colab": {
          "base_uri": "https://localhost:8080/",
          "height": 472
        },
        "id": "Cei2ANCchYVZ",
        "outputId": "8b38354d-c1d5-45f4-e7bd-83708a31f4d4"
      },
      "execution_count": null,
      "outputs": [
        {
          "output_type": "display_data",
          "data": {
            "text/plain": [
              "<Figure size 640x480 with 1 Axes>"
            ],
            "image/png": "[encoded data removed]"
          },
          "metadata": {}
        }
      ]
    },
    {
      "cell_type": "markdown",
      "source": [
        "**Top rated locations**"
      ],
      "metadata": {
        "id": "CugpIoIJ1o_W"
      }
    },
    {
      "cell_type": "code",
      "source": [
        "df['rate'] = df['rate'].astype(str)\n",
        "df['rate'] = df['rate'].apply(lambda x: x.replace('/5', '').strip())\n",
        "# Filter out rows with 'NEW' and also with '-' before converting to float\n",
        "df = df[(df['rate'] != 'NEW') & (df['rate'] != '-')].copy()\n",
        "df['rate'] = df['rate'].astype(float)\n",
        "print(df)"
      ],
      "metadata": {
        "id": "35_NZos8pdxV",
        "colab": {
          "base_uri": "https://localhost:8080/"
        },
        "outputId": "9ee2a4f4-7e40-43a3-930a-16ebc4a976bc"
      },
      "execution_count": null,
      "outputs": [
        {
          "output_type": "stream",
          "name": "stdout",
          "text": [
            "                                                     url  \\\n",
            "0      https://www.zomato.com/bangalore/jalsa-banasha...   \n",
            "1      https://www.zomato.com/bangalore/spice-elephan...   \n",
            "2      https://www.zomato.com/SanchurroBangalore?cont...   \n",
            "3      https://www.zomato.com/bangalore/addhuri-udupi...   \n",
            "4      https://www.zomato.com/bangalore/grand-village...   \n",
            "...                                                  ...   \n",
            "51712  https://www.zomato.com/bangalore/best-brews-fo...   \n",
            "51713  https://www.zomato.com/bangalore/vinod-bar-and...   \n",
            "51714  https://www.zomato.com/bangalore/plunge-sherat...   \n",
            "51715  https://www.zomato.com/bangalore/chime-sherato...   \n",
            "51716  https://www.zomato.com/bangalore/the-nest-the-...   \n",
            "\n",
            "                                                 address  \\\n",
            "0      942, 21st Main Road, 2nd Stage, Banashankari, ...   \n",
            "1      2nd Floor, 80 Feet Road, Near Big Bazaar, 6th ...   \n",
            "2      1112, Next to KIMS Medical College, 17th Cross...   \n",
            "3      1st Floor, Annakuteera, 3rd Stage, Banashankar...   \n",
            "4      10, 3rd Floor, Lakshmi Associates, Gandhi Baza...   \n",
            "...                                                  ...   \n",
            "51712  Four Points by Sheraton Bengaluru, 43/3, White...   \n",
            "51713  Number 10, Garudachar Palya, Mahadevapura, Whi...   \n",
            "51714  Sheraton Grand Bengaluru Whitefield Hotel & Co...   \n",
            "51715  Sheraton Grand Bengaluru Whitefield Hotel & Co...   \n",
            "51716  ITPL Main Road, KIADB Export Promotion Industr...   \n",
            "\n",
            "                                                    name online_order  \\\n",
            "0                                                  Jalsa          Yes   \n",
            "1                                         Spice Elephant          Yes   \n",
            "2                                        San Churro Cafe          Yes   \n",
            "3                                  Addhuri Udupi Bhojana           No   \n",
            "4                                          Grand Village           No   \n",
            "...                                                  ...          ...   \n",
            "51712  Best Brews - Four Points by Sheraton Bengaluru...           No   \n",
            "51713                           Vinod Bar And Restaurant           No   \n",
            "51714  Plunge - Sheraton Grand Bengaluru Whitefield H...           No   \n",
            "51715  Chime - Sheraton Grand Bengaluru Whitefield Ho...           No   \n",
            "51716                       The Nest - The Den Bengaluru           No   \n",
            "\n",
            "      book_table  rate  votes                             phone  \\\n",
            "0            Yes   4.1    775    080 42297555\\r\\n+91 9743772233   \n",
            "1             No   4.1    787                      080 41714161   \n",
            "2             No   3.8    918                    +91 9663487993   \n",
            "3             No   3.7     88                    +91 9620009302   \n",
            "4             No   3.8    166  +91 8026612447\\r\\n+91 9901210005   \n",
            "...          ...   ...    ...                               ...   \n",
            "51712         No   3.6     27                      080 40301477   \n",
            "51713         No   NaN      0                    +91 8197675843   \n",
            "51714         No   NaN      0                               NaN   \n",
            "51715        Yes   4.3    236                      080 49652769   \n",
            "51716         No   3.4     13                    +91 8071117272   \n",
            "\n",
            "                         location            rest_type  \\\n",
            "0                    Banashankari        Casual Dining   \n",
            "1                    Banashankari        Casual Dining   \n",
            "2                    Banashankari  Cafe, Casual Dining   \n",
            "3                    Banashankari          Quick Bites   \n",
            "4                    Basavanagudi        Casual Dining   \n",
            "...                           ...                  ...   \n",
            "51712                  Whitefield                  Bar   \n",
            "51713                  Whitefield                  Bar   \n",
            "51714                  Whitefield                  Bar   \n",
            "51715  ITPL Main Road, Whitefield                  Bar   \n",
            "51716  ITPL Main Road, Whitefield   Bar, Casual Dining   \n",
            "\n",
            "                                              dish_liked  \\\n",
            "0      Pasta, Lunch Buffet, Masala Papad, Paneer Laja...   \n",
            "1      Momos, Lunch Buffet, Chocolate Nirvana, Thai G...   \n",
            "2      Churros, Cannelloni, Minestrone Soup, Hot Choc...   \n",
            "3                                            Masala Dosa   \n",
            "4                                    Panipuri, Gol Gappe   \n",
            "...                                                  ...   \n",
            "51712                                                NaN   \n",
            "51713                                                NaN   \n",
            "51714                                                NaN   \n",
            "51715                       Cocktails, Pizza, Buttermilk   \n",
            "51716                                                NaN   \n",
            "\n",
            "                                     cuisines approx_cost(for two people)  \\\n",
            "0              North Indian, Mughlai, Chinese                         800   \n",
            "1                 Chinese, North Indian, Thai                         800   \n",
            "2                      Cafe, Mexican, Italian                         800   \n",
            "3                  South Indian, North Indian                         300   \n",
            "4                    North Indian, Rajasthani                         600   \n",
            "...                                       ...                         ...   \n",
            "51712                             Continental                       1,500   \n",
            "51713                             Finger Food                         600   \n",
            "51714                             Finger Food                       2,000   \n",
            "51715                             Finger Food                       2,500   \n",
            "51716  Finger Food, North Indian, Continental                       1,500   \n",
            "\n",
            "                                            reviews_list menu_item  \\\n",
            "0      [('Rated 4.0', 'RATED\\n  A beautiful place to ...        []   \n",
            "1      [('Rated 4.0', 'RATED\\n  Had been here for din...        []   \n",
            "2      [('Rated 3.0', \"RATED\\n  Ambience is not that ...        []   \n",
            "3      [('Rated 4.0', \"RATED\\n  Great food and proper...        []   \n",
            "4      [('Rated 4.0', 'RATED\\n  Very good restaurant ...        []   \n",
            "...                                                  ...       ...   \n",
            "51712  [('Rated 5.0', \"RATED\\n  Food and service are ...        []   \n",
            "51713                                                 []        []   \n",
            "51714                                                 []        []   \n",
            "51715  [('Rated 4.0', 'RATED\\n  Nice and friendly pla...        []   \n",
            "51716  [('Rated 5.0', 'RATED\\n  Great ambience , look...        []   \n",
            "\n",
            "      listed_in(type) listed_in(city)  \n",
            "0              Buffet    Banashankari  \n",
            "1              Buffet    Banashankari  \n",
            "2              Buffet    Banashankari  \n",
            "3              Buffet    Banashankari  \n",
            "4              Buffet    Banashankari  \n",
            "...               ...             ...  \n",
            "51712   Pubs and bars      Whitefield  \n",
            "51713   Pubs and bars      Whitefield  \n",
            "51714   Pubs and bars      Whitefield  \n",
            "51715   Pubs and bars      Whitefield  \n",
            "51716   Pubs and bars      Whitefield  \n",
            "\n",
            "[49440 rows x 17 columns]\n"
          ]
        }
      ]
    },
    {
      "cell_type": "code",
      "source": [
        "import os\n",
        "import pandas as pd\n",
        "import numpy as np\n",
        "import matplotlib.pyplot as plt\n",
        "import seaborn as sns\n",
        "sns.set_style(\"whitegrid\")\n",
        "\n"
      ],
      "metadata": {
        "id": "f_dc-Vh7jIyw"
      },
      "execution_count": null,
      "outputs": []
    },
    {
      "cell_type": "markdown",
      "source": [
        "# **Heatmap**"
      ],
      "metadata": {
        "id": "8VFyJA2j15Qm"
      }
    },
    {
      "cell_type": "code",
      "source": [
        "if not os.path.exists(\"GUVI\"):\n",
        "    os.makedirs(\"GUVI\")\n",
        "    print(\"Directory 'GUVI' created.\")\n",
        "\n",
        "# Load the dataset - ONLY LOAD ONCE\n",
        "df = pd.read_csv(\"/content/GUVI/zomato.csv\")\n",
        "\n",
        "# Initial Data Exploration\n",
        "print(\"Initial DataFrame Info:\")\n",
        "df.info()\n",
        "print(\"\\nInitial DataFrame Description:\")\n",
        "print(df.describe())\n",
        "\n",
        "# Check missing values\n",
        "print(\"\\nMissing values before cleaning:\\n\", df.isnull().sum())\n",
        "\n",
        "try:\n",
        "    df['rate_numeric_temp'] = pd.to_numeric(df['rate'], errors='coerce')\n",
        "    # Calculate mode from numeric values, ignore NaNs\n",
        "    mode_rate = df['rate_numeric_temp'].mode()\n",
        "    if not mode_rate.empty:\n",
        "         # Only fill if mode is a valid number\n",
        "        df['rate'] = df['rate'].fillna(str(mode_rate[0]))\n",
        "    df = df.drop(columns=['rate_numeric_temp']) # Drop temporary column\n",
        "except Exception as e:\n",
        "    print(f\"Could not calculate mode for 'rate' safely: {e}\")\n",
        "    print(\"Proceeding without filling rate NaNs with mode.\")\n",
        "\n",
        "\n",
        "# Drop rows with any remaining null values\n",
        "df.dropna(inplace=True)\n",
        "\n",
        "# Confirm again that no missing values remain\n",
        "print(\"\\nMissing values after dropping NaNs:\\n\", df.isnull().sum())\n",
        "\n",
        "# Clean data - Drop irrelevant columns\n",
        "print(\"\\nColumns before dropping:\\n\", df.columns.tolist())\n",
        "\n",
        "columns_to_drop = ['url', 'address', 'phone', 'listed_in(city)', 'menu_item']\n",
        "# Filter the list to only include columns that exist in the DataFrame\n",
        "existing_columns_to_drop = [col for col in columns_to_drop if col in df.columns]\n",
        "\n",
        "# Drop only the columns that exist\n",
        "df.drop(existing_columns_to_drop, axis=1, inplace=True)\n",
        "\n",
        "print(\"\\nColumns after dropping:\\n\", df.columns.tolist())\n",
        "\n",
        "# Clean and convert 'rate' column\n",
        "df['rate'] = df['rate'].astype(str)\n",
        "df['rate'] = df['rate'].apply(lambda x: x.replace('/5', '').strip())\n",
        "# Filter out rows with 'NEW' and also with '-' before converting to float\n",
        "df = df[(df['rate'] != 'NEW') & (df['rate'] != '-')].copy()\n",
        "df['rate'] = df['rate'].astype(float)\n",
        "print(\"\\nDataFrame after cleaning 'rate' column:\")\n",
        "print(df[['rate']].head()) # Display head of rate column to confirm type and values\n",
        "\n",
        "# Feature Engineering - Map binary columns\n",
        "df['online_order'] = df['online_order'].map({'Yes': 1, 'No': 0})\n",
        "df['book_table'] = df['book_table'].map({'Yes': 1, 'No': 0})\n",
        "\n",
        "# Convert column names to lowercase\n",
        "df.columns = df.columns.str.lower()\n",
        "\n",
        "# Check unique values to confirm mapping\n",
        "print(\"\\n✅ online_order unique values:\", df['online_order'].unique())\n",
        "print(\"✅ book_table unique values:\", df['book_table'].unique())\n",
        "# Check updated column names\n",
        "print(\"\\n✅ Column names after lowercase conversion:\\n\", df.columns.tolist())\n",
        "\n",
        "# Drop duplicate rows\n",
        "before_drop_duplicates = df.shape[0]\n",
        "df.drop_duplicates(inplace=True)\n",
        "after_drop_duplicates = df.shape[0]\n",
        "print(f\"\\nRemoved {before_drop_duplicates - after_drop_duplicates} duplicate rows.\")\n",
        "print(f\"Final dataset shape: {df.shape}\")\n",
        "\n",
        "# --- NOW THE DATAFRAME IS CLEANED AND READY FOR PLOTTING AND CORRELATION ---\n",
        "\n",
        "# Example Plotting (from previous cells)\n",
        "plt.figure(figsize=(8,6))\n",
        "sns.countplot(x='online_order', data=df)\n",
        "plt.title(\"Online Order Availability\")\n",
        "plt.show()\n",
        "\n",
        "# Calculate and plot Correlation Heatmap\n",
        "plt.figure(figsize=(10,8)) # Adjusted figure size\n",
        "# Ensure only numeric columns are included in the correlation calculation\n",
        "# Select numeric columns explicitly or let df.corr() handle it (it does by default)\n",
        "numeric_df = df.select_dtypes(include=np.number)\n",
        "sns.heatmap(numeric_df.corr(), annot=True, cmap='coolwarm', fmt=\".2f\") # fmt for readability\n",
        "plt.title(\"Correlation Heatmap of Numeric Features\")\n",
        "plt.show()\n"
      ],
      "metadata": {
        "colab": {
          "base_uri": "https://localhost:8080/",
          "height": 1000
        },
        "id": "Z9eYkPKfj1aE",
        "outputId": "8dd00730-a21f-4718-c8c7-e79228d673ff"
      },
      "execution_count": null,
      "outputs": [
        {
          "output_type": "stream",
          "name": "stdout",
          "text": [
            "Initial DataFrame Info:\n",
            "<class 'pandas.core.frame.DataFrame'>\n",
            "RangeIndex: 51717 entries, 0 to 51716\n",
            "Data columns (total 17 columns):\n",
            " #   Column                       Non-Null Count  Dtype \n",
            "---  ------                       --------------  ----- \n",
            " 0   url                          51717 non-null  object\n",
            " 1   address                      51717 non-null  object\n",
            " 2   name                         51717 non-null  object\n",
            " 3   online_order                 51717 non-null  object\n",
            " 4   book_table                   51717 non-null  object\n",
            " 5   rate                         43942 non-null  object\n",
            " 6   votes                        51717 non-null  int64 \n",
            " 7   phone                        50509 non-null  object\n",
            " 8   location                     51696 non-null  object\n",
            " 9   rest_type                    51490 non-null  object\n",
            " 10  dish_liked                   23639 non-null  object\n",
            " 11  cuisines                     51672 non-null  object\n",
            " 12  approx_cost(for two people)  51371 non-null  object\n",
            " 13  reviews_list                 51717 non-null  object\n",
            " 14  menu_item                    51717 non-null  object\n",
            " 15  listed_in(type)              51717 non-null  object\n",
            " 16  listed_in(city)              51717 non-null  object\n",
            "dtypes: int64(1), object(16)\n",
            "memory usage: 6.7+ MB\n",
            "\n",
            "Initial DataFrame Description:\n",
            "              votes\n",
            "count  51717.000000\n",
            "mean     283.697527\n",
            "std      803.838853\n",
            "min        0.000000\n",
            "25%        7.000000\n",
            "50%       41.000000\n",
            "75%      198.000000\n",
            "max    16832.000000\n",
            "\n",
            "Missing values before cleaning:\n",
            " url                                0\n",
            "address                            0\n",
            "name                               0\n",
            "online_order                       0\n",
            "book_table                         0\n",
            "rate                            7775\n",
            "votes                              0\n",
            "phone                           1208\n",
            "location                          21\n",
            "rest_type                        227\n",
            "dish_liked                     28078\n",
            "cuisines                          45\n",
            "approx_cost(for two people)      346\n",
            "reviews_list                       0\n",
            "menu_item                          0\n",
            "listed_in(type)                    0\n",
            "listed_in(city)                    0\n",
            "dtype: int64\n",
            "\n",
            "Missing values after dropping NaNs:\n",
            " url                            0\n",
            "address                        0\n",
            "name                           0\n",
            "online_order                   0\n",
            "book_table                     0\n",
            "rate                           0\n",
            "votes                          0\n",
            "phone                          0\n",
            "location                       0\n",
            "rest_type                      0\n",
            "dish_liked                     0\n",
            "cuisines                       0\n",
            "approx_cost(for two people)    0\n",
            "reviews_list                   0\n",
            "menu_item                      0\n",
            "listed_in(type)                0\n",
            "listed_in(city)                0\n",
            "dtype: int64\n",
            "\n",
            "Columns before dropping:\n",
            " ['url', 'address', 'name', 'online_order', 'book_table', 'rate', 'votes', 'phone', 'location', 'rest_type', 'dish_liked', 'cuisines', 'approx_cost(for two people)', 'reviews_list', 'menu_item', 'listed_in(type)', 'listed_in(city)']\n",
            "\n",
            "Columns after dropping:\n",
            " ['name', 'online_order', 'book_table', 'rate', 'votes', 'location', 'rest_type', 'dish_liked', 'cuisines', 'approx_cost(for two people)', 'reviews_list', 'listed_in(type)']\n",
            "\n",
            "DataFrame after cleaning 'rate' column:\n",
            "   rate\n",
            "0   4.1\n",
            "1   4.1\n",
            "2   3.8\n",
            "3   3.7\n",
            "4   3.8\n",
            "\n",
            "✅ online_order unique values: [1 0]\n",
            "✅ book_table unique values: [1 0]\n",
            "\n",
            "✅ Column names after lowercase conversion:\n",
            " ['name', 'online_order', 'book_table', 'rate', 'votes', 'location', 'rest_type', 'dish_liked', 'cuisines', 'approx_cost(for two people)', 'reviews_list', 'listed_in(type)']\n",
            "\n",
            "Removed 3460 duplicate rows.\n",
            "Final dataset shape: (19586, 12)\n"
          ]
        },
        {
          "output_type": "display_data",
          "data": {
            "text/plain": [
              "<Figure size 800x600 with 1 Axes>"
            ],
            "image/png": "[encoded data removed]"
          },
          "metadata": {}
        },
        {
          "output_type": "display_data",
          "data": {
            "text/plain": [
              "<Figure size 1000x800 with 2 Axes>"
            ],
            "image/png": "[encoded data removed]"
          },
          "metadata": {}
        }
      ]
    },
    {
      "cell_type": "markdown",
      "source": [
        "# **Handle Outliers**"
      ],
      "metadata": {
        "id": "PbbkJ3822m4A"
      }
    },
    {
      "cell_type": "code",
      "source": [
        "q1 = df['rate'].quantile(0.25)\n",
        "q3 = df['rate'].quantile(0.75)\n",
        "iqr = q3 - q1\n",
        "lower = q1 - 1.5 * iqr\n",
        "upper = q3 + 1.5 * iqr\n",
        "print(f\"IQR: {iqr}\")\n",
        "print(f\"Lower bound for outliers: {lower}\")\n",
        "print(f\"Upper bound for outliers: {upper}\")\n",
        "\n",
        "# Store the shape before filtering for comparison\n",
        "before_outlier_removal = df.shape[0]\n",
        "\n",
        "# Filter the DataFrame to remove outliers based on the rate column\n",
        "df = df[(df['rate'] >= lower) & (df['rate'] <= upper)]\n",
        "\n",
        "# Print the shape after filtering and the number of removed rows\n",
        "after_outlier_removal = df.shape[0]\n",
        "removed_outliers = before_outlier_removal - after_outlier_removal\n",
        "\n",
        "print(f\"\\nShape before outlier removal: ({before_outlier_removal}, {df.shape[1]})\")\n",
        "print(f\"Shape after outlier removal: ({after_outlier_removal}, {df.shape[1]})\")\n",
        "print(f\"Number of rows removed as outliers: {removed_outliers}\")\n",
        "\n",
        "# Show a sample of the DataFrame after removing outliers (optional)\n",
        "print(\"\\nDataFrame head after outlier removal:\")\n",
        "display(df.head())\n",
        "\n",
        "# Provide basic info or description of the filtered 'rate' column\n",
        "print(\"\\nDescription of 'rate' column after outlier removal:\")\n",
        "print(df['rate'].describe())\n"
      ],
      "metadata": {
        "colab": {
          "base_uri": "https://localhost:8080/",
          "height": 726
        },
        "id": "GdwhRkLJk0ET",
        "outputId": "f0bbdef3-833d-47c2-f704-b91b1c147125"
      },
      "execution_count": null,
      "outputs": [
        {
          "output_type": "stream",
          "name": "stdout",
          "text": [
            "IQR: 0.40000000000000036\n",
            "Lower bound for outliers: 3.1999999999999993\n",
            "Upper bound for outliers: 4.800000000000001\n",
            "\n",
            "Shape before outlier removal: (18047, 12)\n",
            "Shape after outlier removal: (18047, 12)\n",
            "Number of rows removed as outliers: 0\n",
            "\n",
            "DataFrame head after outlier removal:\n"
          ]
        },
        {
          "output_type": "display_data",
          "data": {
            "text/plain": [
              "                    name  online_order  book_table  rate  votes      location  \\\n",
              "0                  Jalsa             1           1   4.1    775  Banashankari   \n",
              "1         Spice Elephant             1           0   4.1    787  Banashankari   \n",
              "2        San Churro Cafe             1           0   3.8    918  Banashankari   \n",
              "3  Addhuri Udupi Bhojana             0           0   3.7     88  Banashankari   \n",
              "4          Grand Village             0           0   3.8    166  Basavanagudi   \n",
              "\n",
              "             rest_type                                         dish_liked  \\\n",
              "0        Casual Dining  Pasta, Lunch Buffet, Masala Papad, Paneer Laja...   \n",
              "1        Casual Dining  Momos, Lunch Buffet, Chocolate Nirvana, Thai G...   \n",
              "2  Cafe, Casual Dining  Churros, Cannelloni, Minestrone Soup, Hot Choc...   \n",
              "3          Quick Bites                                        Masala Dosa   \n",
              "4        Casual Dining                                Panipuri, Gol Gappe   \n",
              "\n",
              "                         cuisines approx_cost(for two people)  \\\n",
              "0  North Indian, Mughlai, Chinese                         800   \n",
              "1     Chinese, North Indian, Thai                         800   \n",
              "2          Cafe, Mexican, Italian                         800   \n",
              "3      South Indian, North Indian                         300   \n",
              "4        North Indian, Rajasthani                         600   \n",
              "\n",
              "                                        reviews_list listed_in(type)  \n",
              "0  [('Rated 4.0', 'RATED\\n  A beautiful place to ...          Buffet  \n",
              "1  [('Rated 4.0', 'RATED\\n  Had been here for din...          Buffet  \n",
              "2  [('Rated 3.0', \"RATED\\n  Ambience is not that ...          Buffet  \n",
              "3  [('Rated 4.0', \"RATED\\n  Great food and proper...          Buffet  \n",
              "4  [('Rated 4.0', 'RATED\\n  Very good restaurant ...          Buffet  "
            ],
            "text/html": [
              "\n",
              "  <div id=\"df-9b81a30f-cc00-4ee0-8314-d3ef2afd5789\" class=\"colab-df-container\">\n",
              "    <div>\n",
              "<style scoped>\n",
              "    .dataframe tbody tr th:only-of-type {\n",
              "        vertical-align: middle;\n",
              "    }\n",
              "\n",
              "    .dataframe tbody tr th {\n",
              "        vertical-align: top;\n",
              "    }\n",
              "\n",
              "    .dataframe thead th {\n",
              "        text-align: right;\n",
              "    }\n",
              "</style>\n",
              "<table border=\"1\" class=\"dataframe\">\n",
              "  <thead>\n",
              "    <tr style=\"text-align: right;\">\n",
              "      <th></th>\n",
              "      <th>name</th>\n",
              "      <th>online_order</th>\n",
              "      <th>book_table</th>\n",
              "      <th>rate</th>\n",
              "      <th>votes</th>\n",
              "      <th>location</th>\n",
              "      <th>rest_type</th>\n",
              "      <th>dish_liked</th>\n",
              "      <th>cuisines</th>\n",
              "      <th>approx_cost(for two people)</th>\n",
              "      <th>reviews_list</th>\n",
              "      <th>listed_in(type)</th>\n",
              "    </tr>\n",
              "  </thead>\n",
              "  <tbody>\n",
              "    <tr>\n",
              "      <th>0</th>\n",
              "      <td>Jalsa</td>\n",
              "      <td>1</td>\n",
              "      <td>1</td>\n",
              "      <td>4.1</td>\n",
              "      <td>775</td>\n",
              "      <td>Banashankari</td>\n",
              "      <td>Casual Dining</td>\n",
              "      <td>Pasta, Lunch Buffet, Masala Papad, Paneer Laja...</td>\n",
              "      <td>North Indian, Mughlai, Chinese</td>\n",
              "      <td>800</td>\n",
              "      <td>[('Rated 4.0', 'RATED\\n  A beautiful place to ...</td>\n",
              "      <td>Buffet</td>\n",
              "    </tr>\n",
              "    <tr>\n",
              "      <th>1</th>\n",
              "      <td>Spice Elephant</td>\n",
              "      <td>1</td>\n",
              "      <td>0</td>\n",
              "      <td>4.1</td>\n",
              "      <td>787</td>\n",
              "      <td>Banashankari</td>\n",
              "      <td>Casual Dining</td>\n",
              "      <td>Momos, Lunch Buffet, Chocolate Nirvana, Thai G...</td>\n",
              "      <td>Chinese, North Indian, Thai</td>\n",
              "      <td>800</td>\n",
              "      <td>[('Rated 4.0', 'RATED\\n  Had been here for din...</td>\n",
              "      <td>Buffet</td>\n",
              "    </tr>\n",
              "    <tr>\n",
              "      <th>2</th>\n",
              "      <td>San Churro Cafe</td>\n",
              "      <td>1</td>\n",
              "      <td>0</td>\n",
              "      <td>3.8</td>\n",
              "      <td>918</td>\n",
              "      <td>Banashankari</td>\n",
              "      <td>Cafe, Casual Dining</td>\n",
              "      <td>Churros, Cannelloni, Minestrone Soup, Hot Choc...</td>\n",
              "      <td>Cafe, Mexican, Italian</td>\n",
              "      <td>800</td>\n",
              "      <td>[('Rated 3.0', \"RATED\\n  Ambience is not that ...</td>\n",
              "      <td>Buffet</td>\n",
              "    </tr>\n",
              "    <tr>\n",
              "      <th>3</th>\n",
              "      <td>Addhuri Udupi Bhojana</td>\n",
              "      <td>0</td>\n",
              "      <td>0</td>\n",
              "      <td>3.7</td>\n",
              "      <td>88</td>\n",
              "      <td>Banashankari</td>\n",
              "      <td>Quick Bites</td>\n",
              "      <td>Masala Dosa</td>\n",
              "      <td>South Indian, North Indian</td>\n",
              "      <td>300</td>\n",
              "      <td>[('Rated 4.0', \"RATED\\n  Great food and proper...</td>\n",
              "      <td>Buffet</td>\n",
              "    </tr>\n",
              "    <tr>\n",
              "      <th>4</th>\n",
              "      <td>Grand Village</td>\n",
              "      <td>0</td>\n",
              "      <td>0</td>\n",
              "      <td>3.8</td>\n",
              "      <td>166</td>\n",
              "      <td>Basavanagudi</td>\n",
              "      <td>Casual Dining</td>\n",
              "      <td>Panipuri, Gol Gappe</td>\n",
              "      <td>North Indian, Rajasthani</td>\n",
              "      <td>600</td>\n",
              "      <td>[('Rated 4.0', 'RATED\\n  Very good restaurant ...</td>\n",
              "      <td>Buffet</td>\n",
              "    </tr>\n",
              "  </tbody>\n",
              "</table>\n",
              "</div>\n",
              "    <div class=\"colab-df-buttons\">\n",
              "\n",
              "  <div class=\"colab-df-container\">\n",
              "    <button class=\"colab-df-convert\" onclick=\"convertToInteractive('df-9b81a30f-cc00-4ee0-8314-d3ef2afd5789')\"\n",
              "            title=\"Convert this dataframe to an interactive table.\"\n",
              "            style=\"display:none;\">\n",
              "\n",
              "  <svg xmlns=\"http://www.w3.org/2000/svg\" height=\"24px\" viewBox=\"0 -960 960 960\">\n",
              "    <path d=\"M120-120v-720h720v720H120Zm60-500h600v-160H180v160Zm220 220h160v-160H400v160Zm0 220h160v-160H400v160ZM180-400h160v-160H180v160Zm440 0h160v-160H620v160ZM180-180h160v-160H180v160Zm440 0h160v-160H620v160Z\"/>\n",
              "  </svg>\n",
              "    </button>\n",
              "\n",
              "  <style>\n",
              "    .colab-df-container {\n",
              "      display:flex;\n",
              "      gap: 12px;\n",
              "    }\n",
              "\n",
              "    .colab-df-convert {\n",
              "      background-color: #E8F0FE;\n",
              "      border: none;\n",
              "      border-radius: 50%;\n",
              "      cursor: pointer;\n",
              "      display: none;\n",
              "      fill: #1967D2;\n",
              "      height: 32px;\n",
              "      padding: 0 0 0 0;\n",
              "      width: 32px;\n",
              "    }\n",
              "\n",
              "    .colab-df-convert:hover {\n",
              "      background-color: #E2EBFA;\n",
              "      box-shadow: 0px 1px 2px rgba(60, 64, 67, 0.3), 0px 1px 3px 1px rgba(60, 64, 67, 0.15);\n",
              "      fill: #174EA6;\n",
              "    }\n",
              "\n",
              "    .colab-df-buttons div {\n",
              "      margin-bottom: 4px;\n",
              "    }\n",
              "\n",
              "    [theme=dark] .colab-df-convert {\n",
              "      background-color: #3B4455;\n",
              "      fill: #D2E3FC;\n",
              "    }\n",
              "\n",
              "    [theme=dark] .colab-df-convert:hover {\n",
              "      background-color: #434B5C;\n",
              "      box-shadow: 0px 1px 3px 1px rgba(0, 0, 0, 0.15);\n",
              "      filter: drop-shadow(0px 1px 2px rgba(0, 0, 0, 0.3));\n",
              "      fill: #FFFFFF;\n",
              "    }\n",
              "  </style>\n",
              "\n",
              "    <script>\n",
              "      const buttonEl =\n",
              "        document.querySelector('#df-9b81a30f-cc00-4ee0-8314-d3ef2afd5789 button.colab-df-convert');\n",
              "      buttonEl.style.display =\n",
              "        google.colab.kernel.accessAllowed ? 'block' : 'none';\n",
              "\n",
              "      async function convertToInteractive(key) {\n",
              "        const element = document.querySelector('#df-9b81a30f-cc00-4ee0-8314-d3ef2afd5789');\n",
              "        const dataTable =\n",
              "          await google.colab.kernel.invokeFunction('convertToInteractive',\n",
              "                                                    [key], {});\n",
              "        if (!dataTable) return;\n",
              "\n",
              "        const docLinkHtml = 'Like what you see? Visit the ' +\n",
              "          '<a target=\"_blank\" href=https://colab.research.google.com/notebooks/data_table.ipynb>data table notebook</a>'\n",
              "          + ' to learn more about interactive tables.';\n",
              "        element.innerHTML = '';\n",
              "        dataTable['output_type'] = 'display_data';\n",
              "        await google.colab.output.renderOutput(dataTable, element);\n",
              "        const docLink = document.createElement('div');\n",
              "        docLink.innerHTML = docLinkHtml;\n",
              "        element.appendChild(docLink);\n",
              "      }\n",
              "    </script>\n",
              "  </div>\n",
              "\n",
              "\n",
              "    <div id=\"df-bb361843-e796-4e35-b489-d63df881e580\">\n",
              "      <button class=\"colab-df-quickchart\" onclick=\"quickchart('df-bb361843-e796-4e35-b489-d63df881e580')\"\n",
              "                title=\"Suggest charts\"\n",
              "                style=\"display:none;\">\n",
              "\n",
              "<svg xmlns=\"http://www.w3.org/2000/svg\" height=\"24px\"viewBox=\"0 0 24 24\"\n",
              "     width=\"24px\">\n",
              "    <g>\n",
              "        <path d=\"M19 3H5c-1.1 0-2 .9-2 2v14c0 1.1.9 2 2 2h14c1.1 0 2-.9 2-2V5c0-1.1-.9-2-2-2zM9 17H7v-7h2v7zm4 0h-2V7h2v10zm4 0h-2v-4h2v4z\"/>\n",
              "    </g>\n",
              "</svg>\n",
              "      </button>\n",
              "\n",
              "<style>\n",
              "  .colab-df-quickchart {\n",
              "      --bg-color: #E8F0FE;\n",
              "      --fill-color: #1967D2;\n",
              "      --hover-bg-color: #E2EBFA;\n",
              "      --hover-fill-color: #174EA6;\n",
              "      --disabled-fill-color: #AAA;\n",
              "      --disabled-bg-color: #DDD;\n",
              "  }\n",
              "\n",
              "  [theme=dark] .colab-df-quickchart {\n",
              "      --bg-color: #3B4455;\n",
              "      --fill-color: #D2E3FC;\n",
              "      --hover-bg-color: #434B5C;\n",
              "      --hover-fill-color: #FFFFFF;\n",
              "      --disabled-bg-color: #3B4455;\n",
              "      --disabled-fill-color: #666;\n",
              "  }\n",
              "\n",
              "  .colab-df-quickchart {\n",
              "    background-color: var(--bg-color);\n",
              "    border: none;\n",
              "    border-radius: 50%;\n",
              "    cursor: pointer;\n",
              "    display: none;\n",
              "    fill: var(--fill-color);\n",
              "    height: 32px;\n",
              "    padding: 0;\n",
              "    width: 32px;\n",
              "  }\n",
              "\n",
              "  .colab-df-quickchart:hover {\n",
              "    background-color: var(--hover-bg-color);\n",
              "    box-shadow: 0 1px 2px rgba(60, 64, 67, 0.3), 0 1px 3px 1px rgba(60, 64, 67, 0.15);\n",
              "    fill: var(--button-hover-fill-color);\n",
              "  }\n",
              "\n",
              "  .colab-df-quickchart-complete:disabled,\n",
              "  .colab-df-quickchart-complete:disabled:hover {\n",
              "    background-color: var(--disabled-bg-color);\n",
              "    fill: var(--disabled-fill-color);\n",
              "    box-shadow: none;\n",
              "  }\n",
              "\n",
              "  .colab-df-spinner {\n",
              "    border: 2px solid var(--fill-color);\n",
              "    border-color: transparent;\n",
              "    border-bottom-color: var(--fill-color);\n",
              "    animation:\n",
              "      spin 1s steps(1) infinite;\n",
              "  }\n",
              "\n",
              "  @keyframes spin {\n",
              "    0% {\n",
              "      border-color: transparent;\n",
              "      border-bottom-color: var(--fill-color);\n",
              "      border-left-color: var(--fill-color);\n",
              "    }\n",
              "    20% {\n",
              "      border-color: transparent;\n",
              "      border-left-color: var(--fill-color);\n",
              "      border-top-color: var(--fill-color);\n",
              "    }\n",
              "    30% {\n",
              "      border-color: transparent;\n",
              "      border-left-color: var(--fill-color);\n",
              "      border-top-color: var(--fill-color);\n",
              "      border-right-color: var(--fill-color);\n",
              "    }\n",
              "    40% {\n",
              "      border-color: transparent;\n",
              "      border-right-color: var(--fill-color);\n",
              "      border-top-color: var(--fill-color);\n",
              "    }\n",
              "    60% {\n",
              "      border-color: transparent;\n",
              "      border-right-color: var(--fill-color);\n",
              "    }\n",
              "    80% {\n",
              "      border-color: transparent;\n",
              "      border-right-color: var(--fill-color);\n",
              "      border-bottom-color: var(--fill-color);\n",
              "    }\n",
              "    90% {\n",
              "      border-color: transparent;\n",
              "      border-bottom-color: var(--fill-color);\n",
              "    }\n",
              "  }\n",
              "</style>\n",
              "\n",
              "      <script>\n",
              "        async function quickchart(key) {\n",
              "          const quickchartButtonEl =\n",
              "            document.querySelector('#' + key + ' button');\n",
              "          quickchartButtonEl.disabled = true;  // To prevent multiple clicks.\n",
              "          quickchartButtonEl.classList.add('colab-df-spinner');\n",
              "          try {\n",
              "            const charts = await google.colab.kernel.invokeFunction(\n",
              "                'suggestCharts', [key], {});\n",
              "          } catch (error) {\n",
              "            console.error('Error during call to suggestCharts:', error);\n",
              "          }\n",
              "          quickchartButtonEl.classList.remove('colab-df-spinner');\n",
              "          quickchartButtonEl.classList.add('colab-df-quickchart-complete');\n",
              "        }\n",
              "        (() => {\n",
              "          let quickchartButtonEl =\n",
              "            document.querySelector('#df-bb361843-e796-4e35-b489-d63df881e580 button');\n",
              "          quickchartButtonEl.style.display =\n",
              "            google.colab.kernel.accessAllowed ? 'block' : 'none';\n",
              "        })();\n",
              "      </script>\n",
              "    </div>\n",
              "\n",
              "    </div>\n",
              "  </div>\n"
            ],
            "application/vnd.google.colaboratory.intrinsic+json": {
              "type": "dataframe",
              "summary": "{\n  \"name\": \"print(df['rate']\",\n  \"rows\": 5,\n  \"fields\": [\n    {\n      \"column\": \"name\",\n      \"properties\": {\n        \"dtype\": \"string\",\n        \"num_unique_values\": 5,\n        \"samples\": [\n          \"Spice Elephant\",\n          \"Grand Village\",\n          \"San Churro Cafe\"\n        ],\n        \"semantic_type\": \"\",\n        \"description\": \"\"\n      }\n    },\n    {\n      \"column\": \"online_order\",\n      \"properties\": {\n        \"dtype\": \"number\",\n        \"std\": 0,\n        \"min\": 0,\n        \"max\": 1,\n        \"num_unique_values\": 2,\n        \"samples\": [\n          0,\n          1\n        ],\n        \"semantic_type\": \"\",\n        \"description\": \"\"\n      }\n    },\n    {\n      \"column\": \"book_table\",\n      \"properties\": {\n        \"dtype\": \"number\",\n        \"std\": 0,\n        \"min\": 0,\n        \"max\": 1,\n        \"num_unique_values\": 2,\n        \"samples\": [\n          0,\n          1\n        ],\n        \"semantic_type\": \"\",\n        \"description\": \"\"\n      }\n    },\n    {\n      \"column\": \"rate\",\n      \"properties\": {\n        \"dtype\": \"number\",\n        \"std\": 0.1870828693386969,\n        \"min\": 3.7,\n        \"max\": 4.1,\n        \"num_unique_values\": 3,\n        \"samples\": [\n          4.1,\n          3.8\n        ],\n        \"semantic_type\": \"\",\n        \"description\": \"\"\n      }\n    },\n    {\n      \"column\": \"votes\",\n      \"properties\": {\n        \"dtype\": \"number\",\n        \"std\": 388,\n        \"min\": 88,\n        \"max\": 918,\n        \"num_unique_values\": 5,\n        \"samples\": [\n          787,\n          166\n        ],\n        \"semantic_type\": \"\",\n        \"description\": \"\"\n      }\n    },\n    {\n      \"column\": \"location\",\n      \"properties\": {\n        \"dtype\": \"category\",\n        \"num_unique_values\": 2,\n        \"samples\": [\n          \"Basavanagudi\",\n          \"Banashankari\"\n        ],\n        \"semantic_type\": \"\",\n        \"description\": \"\"\n      }\n    },\n    {\n      \"column\": \"rest_type\",\n      \"properties\": {\n        \"dtype\": \"string\",\n        \"num_unique_values\": 3,\n        \"samples\": [\n          \"Casual Dining\",\n          \"Cafe, Casual Dining\"\n        ],\n        \"semantic_type\": \"\",\n        \"description\": \"\"\n      }\n    },\n    {\n      \"column\": \"dish_liked\",\n      \"properties\": {\n        \"dtype\": \"string\",\n        \"num_unique_values\": 5,\n        \"samples\": [\n          \"Momos, Lunch Buffet, Chocolate Nirvana, Thai Green Curry, Paneer Tikka, Dum Biryani, Chicken Biryani\",\n          \"Panipuri, Gol Gappe\"\n        ],\n        \"semantic_type\": \"\",\n        \"description\": \"\"\n      }\n    },\n    {\n      \"column\": \"cuisines\",\n      \"properties\": {\n        \"dtype\": \"string\",\n        \"num_unique_values\": 5,\n        \"samples\": [\n          \"Chinese, North Indian, Thai\",\n          \"North Indian, Rajasthani\"\n        ],\n        \"semantic_type\": \"\",\n        \"description\": \"\"\n      }\n    },\n    {\n      \"column\": \"approx_cost(for two people)\",\n      \"properties\": {\n        \"dtype\": \"string\",\n        \"num_unique_values\": 3,\n        \"samples\": [\n          \"800\",\n          \"300\"\n        ],\n        \"semantic_type\": \"\",\n        \"description\": \"\"\n      }\n    },\n    {\n      \"column\": \"reviews_list\",\n      \"properties\": {\n        \"dtype\": \"string\",\n        \"num_unique_values\": 5,\n        \"samples\": [\n          \"[('Rated 4.0', 'RATED\\\\n  Had been here for dinner with family. Turned out to be a good choose suitable for all ages of people. Can try this place. We liked the most was their starters. Service is good. Prices are affordable. Will recommend this restaurant for early dinner. The place is little noisy.'), ('Rated 3.0', 'RATED\\\\n  The ambience is really nice, staff is courteous. The price is pretty high for the quantity, but overall the experience was fine. The quality of food is nice but nothing extraordinary. They also have buffet(only veg)'), ('Rated 3.0', 'RATED\\\\n  I felt good is little expensive for the quantity they serve and In terms of taste is decent. There is nothing much to talk about the ambience, regular casual dining restaurant where you can take your family for dinner or lunch. If they improve on that quantity or may be reduce the price a bit or may be improve the presentation of the food it might Manage to get more repeat customers.'), ('Rated 4.0', 'RATED\\\\n  I was looking for a quite place to spend some time with family and as well wanted to try some new place. Since I was at Banashankari I thought of trying this place. The place had good rating and was part of Zomato gold. So I decided to try this place. It was a delite to see a very friendly staff and food we ordered was very tasty as well.\\\\n\\\\nFood : 4/5\\\\nAmbience :3/5\\\\nFriendly staff : 4/5\\\\nPocket friendly : 4/5\\\\n\\\\nWill definitely visit again ??'), ('Rated 4.0', \\\"RATED\\\\n  Nice place to dine and has a good ambiance... Food is good and the serving time is also good..neat restrooms and we'll arranged tables....only thing is we went at 12.30 for lunch...and we noticed that they kept on playing one music back to back which was a little annoying...\\\\n\\\\n1. Chicken biriyani was so good and the chicken was fresh and tender ,rice was well cooked and overall was great\\\\n\\\\n2. Mutton biriyani was very very good and tasty and It had plenty of mutton pieces...\\\"), ('Rated 5.0', 'RATED\\\\n  This place just cool ? with good ambience and slow music and having delicious food is where you find peace. Staff very friendly and they have maintained the place so clean. The price is average for what the quantity of food they serve.\\\\nThom yum Thai soup was best and was treat to mouth, roti was soft with that vilaythi paneer was perfect to have for veggie foodies, in rice we tried burnt garlic fried rice with vegetables and it was the perfect thing to end.'), ('Rated 4.0', \\\"RATED\\\\n  Quiet a good family type of place.. too calm and usually we don't find crowd here.. panner curry and the deserts is what we had tasted.. they wer really good but we found it a little expensive\\\"), ('Rated 2.0', \\\"RATED\\\\n  I had a very bad experience here.\\\\nI don't know about a la carte, but the buffet was the worst. They gave us complementary drink and momos before the buffet. The momos were really good.\\\\nThe number of varieties first of all was very disappointing. The service was very slow. They refilled the food very slowly. The starters were okay. The main course also was so so. There was two gravies with roti and some rice with raitha. They had chats, sev puri and pan puri, which was average. But the desert was disappointing. They had gulab Jamun and chocolate cake. The jamun was not cooked inside. There was a cold blob of raw dough inside. The chocolate cake also was really hard and not that good.\\\\nOverall the buffet was a bad experience for me.\\\"), ('Rated 4.0', \\\"RATED\\\\n  Food: 8/10\\\\nAmbience:8/10\\\\nStaff:8/10\\\\nOne of the good places to try north Indian food...but depends on ur taste buds. Not everyone will like all the items here. Specially when u r particular abt sweet and spicy food.\\\\nThere's buffet available too.\\\\nWe had ordered paneer uttar dakshin and paneer kurchan..was amazing. The Gobi hara pyaz and mix veg were average.\\\"), ('Rated 3.0', 'RATED\\\\n  A decent place for a family lunch or dinner.. well arranged in a simple manner. Food was tasty and the crew was very helpful and understanding..'), ('Rated 4.0', \\\"RATED\\\\n  Great place to have a heavy lunch. Good service.\\\\nThe chicken biryani was undoubtedly one of the best I've had. Biriyani and Lassi would be the suggested combo. Buffet is the talk of the place, so try according to your appetite. A nice place.\\\"), ('Rated 4.0', 'RATED\\\\n  Its the one restaurant near katriguppe that i found was really good. Good variety of Chinese and thai dishes. Service is good and good place to hangout with family as its a peaceful place where noise is really less and good view.'), ('Rated 2.0', \\\"RATED\\\\n  Spice elephant soup SPL: almost manchow flavour soup.. Just above medium spicy\\\\n\\\\nLasooni fish tikka was awesome\\\\n\\\\nI don't remember the dessert name but I have attached the photo .. It had vanilla ice inside wafers... Wafer was hell hard, egg smell chewy ... Nightmare dessert !\\\\n\\\\nTable leg space was very bad... I was so uncomfortable, the whole time kept on adjusting my legs\\\\n\\\\nNo parking\\\\n\\\\nFor the taste felt this is too costly\\\"), ('Rated 4.0', 'RATED\\\\n  Zomato gold partner at this price. It was insane. They have really nice food. small place with very courteous staff and very cheap food for this ambience. Cost of soups is 80-100. Starters from 150-250. Main course 200-300. Cost for two was 800 for us.')]\",\n          \"[('Rated 4.0', 'RATED\\\\n  Very good restaurant in neighbourhood. Buffet system is properly arranged. Variety of dishes along with garba dance and puppet show. Good spread of desserts. Live paratha / Kulcha making'), ('Rated 4.0', 'RATED\\\\n  Great service, overwhelming experience.\\\\n\\\\nOne of its kind experience. Grand village offers you some very desi food options.\\\\n\\\\nJaljeera, buttermilk, chat papdi, bhajiya, dosa, pav bhaji, noodles, and so many curries kulcha, roti, and garama garam Jalebies, gulab jamuns.\\\\n\\\\nBeautiful ambience of village. People serving with smiles and with full heart !!\\\\n\\\\nSo here goes my overall ratings :\\\\nFood : 4/5\\\\nAmbience : 3.5/5\\\\nService : 4/5\\\\nPocket friendly : 4/5')]\"\n        ],\n        \"semantic_type\": \"\",\n        \"description\": \"\"\n      }\n    },\n    {\n      \"column\": \"listed_in(type)\",\n      \"properties\": {\n        \"dtype\": \"category\",\n        \"num_unique_values\": 1,\n        \"samples\": [\n          \"Buffet\"\n        ],\n        \"semantic_type\": \"\",\n        \"description\": \"\"\n      }\n    }\n  ]\n}"
            }
          },
          "metadata": {}
        },
        {
          "output_type": "stream",
          "name": "stdout",
          "text": [
            "\n",
            "Description of 'rate' column after outlier removal:\n",
            "count    18047.000000\n",
            "mean         4.012794\n",
            "std          0.292434\n",
            "min          3.200000\n",
            "25%          3.800000\n",
            "50%          4.000000\n",
            "75%          4.200000\n",
            "max          4.800000\n",
            "Name: rate, dtype: float64\n"
          ]
        }
      ]
    }
  ]
}